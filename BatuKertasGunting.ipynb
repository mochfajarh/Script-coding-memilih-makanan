{
  "nbformat": 4,
  "nbformat_minor": 0,
  "metadata": {
    "colab": {
      "name": "BatuKertasGunting.ipynb",
      "provenance": [],
      "authorship_tag": "ABX9TyNuVSYpw4THMEfg25LOhLe8",
      "include_colab_link": true
    },
    "kernelspec": {
      "name": "python3",
      "display_name": "Python 3"
    },
    "language_info": {
      "name": "python"
    }
  },
  "cells": [
    {
      "cell_type": "markdown",
      "metadata": {
        "id": "view-in-github",
        "colab_type": "text"
      },
      "source": [
        "<a href=\"https://colab.research.google.com/github/mochfajarh/Script-coding-memilih-makanan/blob/main/BatuKertasGunting.ipynb\" target=\"_parent\"><img src=\"https://colab.research.google.com/assets/colab-badge.svg\" alt=\"Open In Colab\"/></a>"
      ]
    },
    {
      "cell_type": "code",
      "source": [
        ""
      ],
      "metadata": {
        "id": "frkztpiM417-"
      },
      "execution_count": 2,
      "outputs": []
    },
    {
      "cell_type": "code",
      "execution_count": 3,
      "metadata": {
        "colab": {
          "base_uri": "https://localhost:8080/"
        },
        "id": "xfdaXes-1xzT",
        "outputId": "24f660cf-4f51-4951-8b4f-9a21db2ebc14"
      },
      "outputs": [
        {
          "name": "stdout",
          "output_type": "stream",
          "text": [
            "Memulai permainan Batu Kertas Gunting!\n",
            "Masukkan nama Anda: Fajar\n",
            "Pilih tangan: (0: Batu, 1:Kertas, 2: Gunting)\n",
            "Masukkan nomor (0-2): 2\n",
            "Fajar memilih:  Gunting\n",
            "Komputer memilih:  Batu\n",
            "Hasil: kalah\n",
            "Play again? (y/n): y\n",
            "Pilih tangan: (0: Batu, 1:Kertas, 2: Gunting)\n",
            "Masukkan nomor (0-2): 1\n",
            "Fajar memilih:  Kertas\n",
            "Komputer memilih:  Gunting\n",
            "Hasil: kalah\n",
            "Play again? (y/n): y\n",
            "Pilih tangan: (0: Batu, 1:Kertas, 2: Gunting)\n",
            "Masukkan nomor (0-2): 0\n",
            "Fajar memilih:  Batu\n",
            "Komputer memilih:  Gunting\n",
            "Hasil: Menang\n",
            "Play again? (y/n): n\n"
          ]
        }
      ],
      "source": [
        "from random import randint\n",
        "def validate(hand):\n",
        "  if hand < 0 or hand > 2:\n",
        "    return False\n",
        "  return True\n",
        "\n",
        "def print_hand(hand, name='Tamu'):\n",
        "    hands = ['Batu', 'Kertas', 'Gunting']\n",
        "    print(name + ' memilih:  ' + hands[hand])\n",
        "\n",
        "def judge(player, computer):\n",
        "    if player == computer:\n",
        "      return 'Seri'\n",
        "    elif player == 0 and computer == 1:\n",
        "      return 'kalah'\n",
        "    elif player == 1 and computer == 2:\n",
        "      return 'kalah'\n",
        "    elif player == 2 and computer == 0:\n",
        "      return 'kalah'\n",
        "    else:\n",
        "      return 'Menang'\n",
        "\n",
        "print('Memulai permainan Batu Kertas Gunting!')\n",
        "player_name = input('Masukkan nama Anda: ')\n",
        "\n",
        "while True:\n",
        "  print('Pilih tangan: (0: Batu, 1:Kertas, 2: Gunting)')\n",
        "  player_hand = int(input('Masukkan nomor (0-2): '))\n",
        "\n",
        "  if validate(player_hand):\n",
        "    computer_hand = randint(0, 2)\n",
        "\n",
        "    print_hand(player_hand, player_name)\n",
        "    print_hand(computer_hand, 'Komputer')\n",
        "\n",
        "    result = judge(player_hand, computer_hand)\n",
        "    print('Hasil: '+result)\n",
        "\n",
        "    play_again = input(\"Play again? (y/n): \")\n",
        "    if play_again.lower() != \"y\" :\n",
        "      break\n",
        "  else:\n",
        "    print('Mohon masukkan nomor yang benar')"
      ]
    }
  ]
}